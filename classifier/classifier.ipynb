{
 "cells": [
  {
   "cell_type": "markdown",
   "source": [
    "# Python Code Readability\n",
    "\n",
    "Will Tholke, Alex Truong, Andrew Zhang"
   ],
   "metadata": {
    "collapsed": false
   }
  },
  {
   "cell_type": "markdown",
   "source": [
    "## Imports"
   ],
   "metadata": {
    "collapsed": false
   }
  },
  {
   "cell_type": "code",
   "execution_count": 1,
   "outputs": [],
   "source": [
    "from scipy import sparse\n",
    "from sklearn import linear_model\n",
    "from collections import Counter\n",
    "import numpy as np\n",
    "import math\n",
    "import re\n",
    "from scipy.stats import norm\n",
    "\n",
    "from sklearn.metrics import confusion_matrix\n",
    "import seaborn as sns\n",
    "import matplotlib.pyplot as plt"
   ],
   "metadata": {
    "collapsed": false
   }
  },
  {
   "cell_type": "code",
   "execution_count": 2,
   "outputs": [
    {
     "name": "stdout",
     "output_type": "stream",
     "text": [
      "/Library/Frameworks/Python.framework/Versions/3.10/lib/python3.10/runpy.py:126: RuntimeWarning: 'nltk.downloader' found in sys.modules after import of package 'nltk', but prior to execution of 'nltk.downloader'; this may result in unpredictable behaviour\r\n",
      "  warn(RuntimeWarning(msg))\r\n",
      "[nltk_data] Downloading package punkt to\r\n",
      "[nltk_data]     /Users/willtholke/nltk_data...\r\n",
      "[nltk_data]   Package punkt is already up-to-date!\r\n"
     ]
    }
   ],
   "source": [
    "!python -m nltk.downloader punkt"
   ],
   "metadata": {
    "collapsed": false
   }
  },
  {
   "cell_type": "markdown",
   "source": [
    "## Data Loading & Pre-processing"
   ],
   "metadata": {
    "collapsed": false
   }
  },
  {
   "cell_type": "code",
   "execution_count": 3,
   "outputs": [],
   "source": [
    "def preprocess(text):\n",
    "    cleaned_text = text.replace('<newline>', '\\n')\n",
    "    return cleaned_text"
   ],
   "metadata": {
    "collapsed": false
   }
  },
  {
   "cell_type": "code",
   "execution_count": 4,
   "outputs": [],
   "source": [
    "def load_ordinal_data(filename, ordering):\n",
    "    x = []\n",
    "    y = []\n",
    "    orig_y = []\n",
    "\n",
    "    for _ in ordering:\n",
    "        y.append([])\n",
    "\n",
    "    with open(filename, encoding=\"utf-8\") as file:\n",
    "        for line in file:\n",
    "            cols = line.split(\"\\t\")\n",
    "            label = cols[2].lstrip().rstrip()\n",
    "            text = cols[3]\n",
    "\n",
    "            preprocess(text)\n",
    "            x.append(text)\n",
    "\n",
    "            index = ordering.index(label)\n",
    "            for i in range(len(ordering)):\n",
    "                if index > i:\n",
    "                    y[i].append(1)\n",
    "                else:\n",
    "                    y[i].append(0)\n",
    "            orig_y.append(label)\n",
    "\n",
    "    return x, y, orig_y"
   ],
   "metadata": {
    "collapsed": false
   }
  },
  {
   "cell_type": "markdown",
   "source": [
    "## Ordinal Classifier Definition"
   ],
   "metadata": {
    "collapsed": false
   }
  },
  {
   "cell_type": "code",
   "execution_count": 5,
   "outputs": [],
   "source": [
    "class OrdinalClassifier:\n",
    "\n",
    "    def __init__(self, ordinal_values, feature_method, train_x, train_y, dev_x, dev_y, test_x, test_y, orig_train_y, orig_dev_y, orig_test_y):\n",
    "        self.ordinal_values = ordinal_values\n",
    "        self.feature_vocab = {}\n",
    "        self.feature_method = feature_method\n",
    "        self.min_feature_count = 2\n",
    "        self.log_regs = [None] * (len(self.ordinal_values)-1)\n",
    "\n",
    "        self.train_y = train_y\n",
    "        self.dev_y = dev_y\n",
    "        self.test_y = test_y\n",
    "\n",
    "        self.orig_train_y = orig_train_y\n",
    "        self.orig_dev_y = orig_dev_y\n",
    "        self.orig_test_y = orig_test_y\n",
    "\n",
    "        self.train_x = self.process(train_x, training=True)\n",
    "        self.dev_x = self.process(dev_x, training=False)\n",
    "        self.test_x = self.process(test_x, training=False)\n",
    "\n",
    "        self.predictions = []\n",
    "\n",
    "    # Featurize entire dataset\n",
    "    def featurize(self, data):\n",
    "        featurized_data = []\n",
    "        for text in data:\n",
    "            feats = self.feature_method(text)\n",
    "            featurized_data.append(feats)\n",
    "        return featurized_data\n",
    "\n",
    "    # Read dataset and returned featurized representation as sparse matrix + label array\n",
    "    def process(self, x_data, training = False):\n",
    "\n",
    "        data = self.featurize(x_data)\n",
    "\n",
    "        if training:\n",
    "            fid = 0\n",
    "            feature_doc_count = Counter()\n",
    "            for feats in data:\n",
    "                for feat in feats:\n",
    "                    feature_doc_count[feat] += 1\n",
    "\n",
    "            for feat in feature_doc_count:\n",
    "                if feature_doc_count[feat] >= self.min_feature_count:\n",
    "                    self.feature_vocab[feat] = fid\n",
    "                    fid += 1\n",
    "\n",
    "        f = len(self.feature_vocab)\n",
    "        d = len(data)\n",
    "        x = sparse.dok_matrix((d, f))\n",
    "        for idx, feats in enumerate(data):\n",
    "            for feat in feats:\n",
    "                if feat in self.feature_vocab:\n",
    "                    x[idx, self.feature_vocab[feat]] = feats[feat]\n",
    "\n",
    "        return x\n",
    "\n",
    "    def train(self):\n",
    "        # (D,F) = self.train_x.shape\n",
    "\n",
    "        for idx, ordinal_value in enumerate(self.ordinal_values[:-1]):\n",
    "            best_dev_accuracy = 0\n",
    "            best_model = None\n",
    "            for C in [0.0001, 0.001, 0.1, 1, 5, 10, 50, 100, 1000]:\n",
    "\n",
    "                log_reg = linear_model.LogisticRegression(C = C, max_iter=1000)\n",
    "                log_reg.fit(self.train_x, self.train_y[idx])\n",
    "\n",
    "                development_accuracy = log_reg.score(self.dev_x, self.dev_y[idx])\n",
    "                if development_accuracy > best_dev_accuracy:\n",
    "                    best_dev_accuracy=development_accuracy\n",
    "                    best_model=log_reg\n",
    "\n",
    "            self.log_regs[idx] = best_model\n",
    "\n",
    "    def test(self):\n",
    "        cor = tot = 0\n",
    "        counts = Counter()\n",
    "        preds = [None]*(len(self.ordinal_values)-1)\n",
    "\n",
    "        for idx, ordinal_value in enumerate(self.ordinal_values[:-1]):\n",
    "            preds[idx] = self.log_regs[idx].predict_proba(self.test_x)[:,1]\n",
    "\n",
    "        preds = np.array(preds)\n",
    "\n",
    "        for data_point in range(len(preds[0])):\n",
    "            ordinal_preds = np.zeros(len(self.ordinal_values))\n",
    "\n",
    "            for ordinal in range(len(self.ordinal_values) - 1):\n",
    "                if ordinal == 0:\n",
    "                    ordinal_preds[ordinal] = 1 - preds[ordinal][data_point]\n",
    "                else:\n",
    "                    ordinal_preds[ordinal] = preds[ordinal-1][data_point]-  preds[ordinal][data_point]\n",
    "\n",
    "            ordinal_preds[len(self.ordinal_values) - 1] = preds[len(preds) - 1][data_point]\n",
    "\n",
    "            prediction=np.argmax(ordinal_preds)\n",
    "            self.predictions.append(prediction+1)\n",
    "\n",
    "            counts[prediction]+=1\n",
    "            if prediction == self.ordinal_values.index(self.orig_test_y[data_point]):\n",
    "                cor+=1\n",
    "            tot+=1\n",
    "\n",
    "        return cor/tot"
   ],
   "metadata": {
    "collapsed": false
   }
  },
  {
   "cell_type": "markdown",
   "source": [
    "## Feature Encoding"
   ],
   "metadata": {
    "collapsed": false
   }
  },
  {
   "cell_type": "markdown",
   "source": [
    "### Feature 1: Code Length and Repetition (Section 2.1)"
   ],
   "metadata": {
    "collapsed": false
   }
  },
  {
   "cell_type": "code",
   "execution_count": 6,
   "outputs": [],
   "source": [
    "def check_line_length(text, code_max_length=79, docstring_max_length=72):\n",
    "    \"\"\" Check if lines of code, docstrings, and inline comments do not exceed their maximum allowable lengths. \"\"\"\n",
    "    lines = text.split('\\n')\n",
    "    for line in lines:\n",
    "        if len(line) > code_max_length:\n",
    "            return False\n",
    "        if line.startswith('#') or line.strip().startswith('\"\"\"') or line.strip().startswith(\"'''\"):\n",
    "            if len(line) > docstring_max_length:\n",
    "                return False\n",
    "    return True"
   ],
   "metadata": {
    "collapsed": false
   }
  },
  {
   "cell_type": "markdown",
   "source": [
    "### Feature 2: Inline Comments and Docstrings (Section 2.2)"
   ],
   "metadata": {
    "collapsed": false
   }
  },
  {
   "cell_type": "code",
   "execution_count": 7,
   "outputs": [],
   "source": [
    "def check_comments_docstrings(text):\n",
    "    \"\"\" Check if at least one of the following is present: docstring, inline comment, assert statement, error handling. \"\"\"\n",
    "    if re.search(r'\"\"\"(.|\\n)*?\"\"\"', text) or re.search(r\"'''(.|\\n)*?'''\", text) or re.search(r'#', text):\n",
    "        return True\n",
    "    # Omitted: checks for assert statements and error handling\n",
    "\n",
    "    return False"
   ],
   "metadata": {
    "collapsed": false
   }
  },
  {
   "cell_type": "markdown",
   "source": [
    "### Feature 3: Naming Conventions and Case (Section 2.3)"
   ],
   "metadata": {
    "collapsed": false
   }
  },
  {
   "cell_type": "code",
   "execution_count": 8,
   "outputs": [],
   "source": [
    "def check_naming_conventions(text):\n",
    "    \"\"\" Check if the class name is in CamelCase or the function name is in snake_case. Check if variables are in snake_case. \"\"\"\n",
    "    if not (re.search(r'\\bclass\\s+[A-Z][a-zA-Z0-9]*', text) or re.search(r'\\bdef\\s+[a-z_][a-zA-Z0-9]*', text)):\n",
    "        return False\n",
    "\n",
    "    variable_pattern = r'\\b[a-z][a-zA-Z0-9_]*\\s*='\n",
    "    variable_matches = re.findall(variable_pattern, text)\n",
    "\n",
    "    for match in variable_matches:\n",
    "        var_name = match.strip().rstrip('=').strip()\n",
    "        if not re.match(r'^[a-z][a-zA-Z0-9_]*$', var_name):\n",
    "            return False\n",
    "\n",
    "    return True\n",
    "\n",
    "def check_descriptive_params(text):\n",
    "    \"\"\" Check if function and class parameters are self-explanatory. \"\"\"\n",
    "    bad_params = {'x', 'y', 'temp', 'param', 'input', 'temp', 'i', 'j', 'k'}\n",
    "    function_pattern = r'\\bdef\\s+[a-z_][a-zA-Z0-9]*\\s*\\((.*?)\\)'\n",
    "    class_pattern = r'\\bclass\\s+[A-Z][a-zA-Z0-9]*\\s*\\((.*?)\\)'\n",
    "    function_matches = re.findall(function_pattern, text)\n",
    "    class_matches = re.findall(class_pattern, text)\n",
    "\n",
    "    for params in function_matches + class_matches:\n",
    "        param_list = [p.strip() for p in params.split(',')]\n",
    "        for param in param_list:\n",
    "            if param in bad_params:\n",
    "                return False\n",
    "    return True"
   ],
   "metadata": {
    "collapsed": false
   }
  },
  {
   "cell_type": "markdown",
   "source": [
    "### Feature 4: Whitespace (Section 2.4)"
   ],
   "metadata": {
    "collapsed": false
   }
  },
  {
   "cell_type": "code",
   "execution_count": 9,
   "outputs": [],
   "source": [
    "def check_whitespace(text):\n",
    "    \"\"\" Check for consistency between tabs and spaces for indentation. \"\"\"\n",
    "    lines = text.split('\\n')\n",
    "    space_indented = [line.startswith(' ') for line in lines if line.strip()]\n",
    "    tab_indented = [line.startswith('\\t') for line in lines if line.strip()]\n",
    "    return not (any(space_indented) and any(tab_indented))\n",
    "\n",
    "def check_blank_lines(text):\n",
    "    \"\"\" Check whether blank lines are used sparingly. \"\"\"\n",
    "    lines = text.split('\\n')\n",
    "    blank_line = 0\n",
    "\n",
    "    for line in lines:\n",
    "        if not line.strip():\n",
    "            blank_line += 1\n",
    "            if blank_line > 1:\n",
    "                return False\n",
    "        else:\n",
    "            blank_line = 0\n",
    "\n",
    "    return True"
   ],
   "metadata": {
    "collapsed": false
   }
  },
  {
   "cell_type": "markdown",
   "source": [
    "### Feature 5: Miscellaneous (Section 2.5)"
   ],
   "metadata": {
    "collapsed": false
   }
  },
  {
   "cell_type": "code",
   "execution_count": 10,
   "outputs": [],
   "source": [
    "def check_misc(text):\n",
    "    \"\"\" Check for residual to-do statements and comparison of boolean values. \"\"\"\n",
    "    if re.search(r'\\bTrue\\b', text) or re.search(r'\\bFalse\\b', text) or re.search(r'todo', text, re.IGNORECASE):\n",
    "        return False\n",
    "    return True"
   ],
   "metadata": {
    "collapsed": false
   }
  },
  {
   "cell_type": "markdown",
   "source": [
    "## Feature Combination"
   ],
   "metadata": {
    "collapsed": false
   }
  },
  {
   "cell_type": "code",
   "execution_count": 11,
   "outputs": [],
   "source": [
    "def readability_features(text):\n",
    "    features = {\n",
    "        'line_length': check_line_length(text),\n",
    "        'comments_docstrings': check_comments_docstrings(text),\n",
    "        'naming_conventions': check_naming_conventions(text),\n",
    "        'descriptive_params': check_descriptive_params(text),\n",
    "        'whitespace_consistency': check_whitespace(text),\n",
    "        'blank_lines': check_blank_lines(text),\n",
    "        'misc': check_misc(text),\n",
    "    }\n",
    "    return features"
   ],
   "metadata": {
    "collapsed": false
   }
  },
  {
   "cell_type": "markdown",
   "source": [
    "## Training"
   ],
   "metadata": {
    "collapsed": false
   }
  },
  {
   "cell_type": "code",
   "execution_count": 12,
   "outputs": [],
   "source": [
    "def confidence_intervals(accuracy, n, significance_level):\n",
    "    critical_value=(1-significance_level)/2\n",
    "    z_alpha=-1*norm.ppf(critical_value)\n",
    "    se=math.sqrt((accuracy*(1-accuracy))/n)\n",
    "    return accuracy-(se*z_alpha), accuracy+(se*z_alpha)"
   ],
   "metadata": {
    "collapsed": false
   }
  },
  {
   "cell_type": "code",
   "execution_count": 13,
   "outputs": [],
   "source": [
    "class RunObject:\n",
    "\n",
    "    def __init__(self, train_x, train_y, orig_train_y, test_x, test_y, orig_test_y, classifier, preds):\n",
    "        self.train_x = train_x\n",
    "        self.train_y = train_y\n",
    "        self.orig_train_y = orig_train_y\n",
    "\n",
    "        self.test_x = test_x\n",
    "        self.test_y = test_y\n",
    "        self.orig_test_y = orig_test_y\n",
    "\n",
    "        self.classifier = classifier\n",
    "        self.preds = preds\n",
    "\n",
    "def run(training_file, dev_file, test_file, ordinal_values, return_run_obj=None):\n",
    "    train_x, train_y, orig_train_y = load_ordinal_data(training_file, ordinal_values)\n",
    "    dev_x, dev_y, orig_dev_y = load_ordinal_data(dev_file, ordinal_values)\n",
    "    test_x, test_y, orig_test_y = load_ordinal_data(test_file, ordinal_values)\n",
    "\n",
    "    simple_classifier = OrdinalClassifier(ordinal_values, readability_features, train_x, train_y, dev_x, dev_y, test_x, test_y, orig_train_y, orig_dev_y, orig_test_y)\n",
    "    simple_classifier.train()\n",
    "    accuracy = simple_classifier.test()\n",
    "\n",
    "    lower, upper = confidence_intervals(accuracy, len(test_y[0]), .95)\n",
    "    print(\"Test accuracy for best dev model: %.3f, 95%% CIs: [%.3f %.3f]\\n\" % (accuracy, lower, upper))\n",
    "\n",
    "    return RunObject(train_x, train_y, orig_train_y, test_x, test_y, orig_test_y, simple_classifier, simple_classifier.predictions) if return_run_obj else None"
   ],
   "metadata": {
    "collapsed": false
   }
  },
  {
   "cell_type": "code",
   "execution_count": 14,
   "outputs": [
    {
     "name": "stdout",
     "output_type": "stream",
     "text": [
      "Test accuracy for best dev model: 0.730, 95% CIs: [0.643 0.817]\n",
      "\n"
     ]
    }
   ],
   "source": [
    "training_split, dev_split, test_split = \"splits/train.txt\", \"splits/dev.txt\", \"splits/test.txt\"\n",
    "ordinal_labels = [\"1\", \"2\", \"3\", \"4\", \"5\"]\n",
    "\n",
    "trained_model = run(training_split, dev_split, test_split, ordinal_labels, return_run_obj=True)"
   ],
   "metadata": {
    "collapsed": false
   }
  },
  {
   "cell_type": "markdown",
   "source": [
    "## Part B: Analysis"
   ],
   "metadata": {
    "collapsed": false
   }
  },
  {
   "cell_type": "markdown",
   "source": [
    "### Code for Analysis"
   ],
   "metadata": {
    "collapsed": false
   }
  },
  {
   "cell_type": "code",
   "execution_count": 15,
   "outputs": [],
   "source": [
    "def label_proportions(data_labels, ordinals):\n",
    "    \"\"\" Return a dictionary of labels in ORDINALS and their proportion in DATA_LABELS. \"\"\"\n",
    "    counter, proportions = Counter(data_labels), {}\n",
    "    counter.update(ordinals)\n",
    "    for label, count in counter.items():\n",
    "        proportions[label] = round(count / len(data_labels), 4)\n",
    "    return proportions\n",
    "\n",
    "def display_proportions():\n",
    "    train_labels = label_proportions(trained_model.orig_train_y, ordinal_labels)\n",
    "    test_labels = label_proportions(trained_model.orig_test_y, ordinal_labels)\n",
    "\n",
    "    print(\"Training Label Proportions:\")\n",
    "    for key, value in sorted(train_labels.items()):\n",
    "        percentage = \"{:.2f}%\".format(value * 100)\n",
    "        print(f'{key}: {value} ({percentage})')\n",
    "\n",
    "    print(\"\\nTest Label Proportions:\")\n",
    "    for key, value in sorted(test_labels.items()):\n",
    "        percentage = \"{:.2f}%\".format(value * 100)\n",
    "        print(f'{key}: {value} ({percentage})')\n",
    "\n",
    "    print(\"\\nTraining vs. Test Label Proportions:\")\n",
    "    for key in sorted(train_labels.keys()):\n",
    "        train_prop = train_labels[key]\n",
    "        test_prop = test_labels[key]\n",
    "        train_percentage = \"{:.2f}%\".format(train_prop * 100)\n",
    "        test_percentage = \"{:.2f}%\".format(test_prop * 100)\n",
    "        print(f'{key}: {train_prop} ({train_percentage}) vs. {test_prop} ({test_percentage})')"
   ],
   "metadata": {
    "collapsed": false
   }
  },
  {
   "cell_type": "code",
   "execution_count": 16,
   "outputs": [],
   "source": [
    "def display_heatmap(return_matrix=False):\n",
    "    cm = confusion_matrix([int(label) for label in trained_model.orig_test_y], trained_model.preds)\n",
    "    hm = sns.heatmap(cm, annot=True, fmt = 'd', cmap = 'binary', annot_kws = {'size': 16})\n",
    "\n",
    "    tick_labels = list(range(1, len(cm) + 1))\n",
    "    hm.set_xticklabels(tick_labels)\n",
    "    hm.set_yticklabels(tick_labels)\n",
    "\n",
    "    plt.xlabel('Predicted Label')\n",
    "    plt.ylabel('Actual Label')\n",
    "    plt.show()\n",
    "\n",
    "    return cm if return_matrix else None"
   ],
   "metadata": {
    "collapsed": false
   }
  },
  {
   "cell_type": "code",
   "execution_count": 17,
   "outputs": [],
   "source": [
    "def get_importance(ordinal_classifier):\n",
    "    num_models = len(ordinal_classifier.log_regs)\n",
    "    features = [i[0] for i in ordinal_classifier.feature_vocab.items()]\n",
    "\n",
    "    importances = sum(np.abs(log_reg.coef_[0]) for log_reg in ordinal_classifier.log_regs) / num_models\n",
    "\n",
    "    return {feature_name: importance for feature_name, importance in zip(features, importances)}\n",
    "\n",
    "def display_importance():\n",
    "    classifier = trained_model.classifier\n",
    "    importance_dict = get_importance(classifier)\n",
    "    print(\"Importance by Feature:\")\n",
    "    for feature, importance in sorted(importance_dict.items(), key=lambda x: x[1], reverse=True):\n",
    "        percentage = \"{:.2f}%\".format(importance * 100)\n",
    "        print(f'{feature}: {percentage}')"
   ],
   "metadata": {
    "collapsed": false
   }
  },
  {
   "cell_type": "markdown",
   "source": [
    "### Analysis Results and Interpretation"
   ],
   "metadata": {
    "collapsed": false
   }
  },
  {
   "cell_type": "markdown",
   "source": [
    "For the task of assessing the readability of Python code, we implemented an ordinal classifier which works with ordinal values on a scale of 1 to 5. The model trains a unique logistic regression classifier for each ordinal value, which is then trained on the corresponding labels and featurized training data.\n",
    "\n",
    "To featurize the data, we employed subfeatures that fall within 5 categories of features. The feature categories are described in detail in Section 2.1 to Section 2.5 on page 4 of the Project Annotation Manual and include elements such as code length and repetition, inline comments and docstrings, naming conventions and case, whitespace, and miscellaneous factors such as the comparison of boolean values and presence of non-functional code."
   ],
   "metadata": {
    "collapsed": false
   }
  },
  {
   "cell_type": "code",
   "execution_count": 18,
   "outputs": [
    {
     "name": "stdout",
     "output_type": "stream",
     "text": [
      "Training Label Proportions:\n",
      "1: 0.0067 (0.67%)\n",
      "2: 0.0033 (0.33%)\n",
      "3: 0.0967 (9.67%)\n",
      "4: 0.5933 (59.33%)\n",
      "5: 0.3167 (31.67%)\n",
      "\n",
      "Test Label Proportions:\n",
      "1: 0.02 (2.00%)\n",
      "2: 0.02 (2.00%)\n",
      "3: 0.06 (6.00%)\n",
      "4: 0.7 (70.00%)\n",
      "5: 0.25 (25.00%)\n",
      "\n",
      "Training vs. Test Label Proportions:\n",
      "1: 0.0067 (0.67%) vs. 0.02 (2.00%)\n",
      "2: 0.0033 (0.33%) vs. 0.02 (2.00%)\n",
      "3: 0.0967 (9.67%) vs. 0.06 (6.00%)\n",
      "4: 0.5933 (59.33%) vs. 0.7 (70.00%)\n",
      "5: 0.3167 (31.67%) vs. 0.25 (25.00%)\n"
     ]
    }
   ],
   "source": [
    "display_proportions()"
   ],
   "metadata": {
    "collapsed": false
   }
  },
  {
   "cell_type": "markdown",
   "source": [
    "When taking a look at the proportion of each label in the training and test data, we notice that labels 1, 2, and 3 never represent more than 10.67% of the total data points, yet the proportion of data under each label never vary by more than ~10% between the two datasets. The raw data confirm this observation, indicating that there is room for improvement in either the data collection or the annotation process.\n",
    "\n",
    "The data come from open-source GitHub repositories that have a *minimum* number of 500 stars and 500 forks, but since we are limited to 500 data points, the data ended up being collected from the most popular python projects on GitHub, such as [google/jax](https://github.com/google/jax), [huggingface/diffusers](https://github.com/huggingface/diffusers), [flairNLP/flair](https://github.com/flairNLP/flair), and [python/mypy](https://github.com/python/mypy). The full data collection process is outlined in Section 1.2 of the Project Annotation Manual. By collecting data in this way, we excluded a lot of useful python repositories that included snippets of python code that would have a readability scores of 3, 2 or 1."
   ],
   "metadata": {
    "collapsed": false
   }
  },
  {
   "cell_type": "code",
   "execution_count": 19,
   "outputs": [
    {
     "data": {
      "text/plain": "<Figure size 640x480 with 2 Axes>",
      "image/png": "[encoded data removed]"
     },
     "metadata": {},
     "output_type": "display_data"
    }
   ],
   "source": [
    "display_heatmap(return_matrix=False)  # change the parameter to True to return the NumPy array representation"
   ],
   "metadata": {
    "collapsed": false
   }
  },
  {
   "cell_type": "markdown",
   "source": [
    "The confusion matrix above summarizes the performance of the model by comparing actual labels with predicted labels. As shown in the first row, there were no instances of snippets with a readability label of 1 in the test set which were predicted to be 1. This is also the case for labels 2 and 3, although more snippets with a readability label of 3 were incorrectly predicted than those with labels 1 or 2. For labels 4 and 5, the classifier correctly predicted 55 and 18 instances, respectively, which is much more than the 0 correctly labeled instances for labels 1-3. However, it also incorrectly predicted 14 instances of label 4 as label 5 and 6 instances of label 5 as label 4; these are false positives.\n",
    "\n",
    "The confusion matrix suggests that the model is performing well for predicting labels 4 and 5 but that it is struggling to differentiate between labels 1-3. Instances of misclassification for labels 4 and 5 are likely due to the fact that the two labels share almost all the same features, which makes label prediction more difficult.\n"
   ],
   "metadata": {
    "collapsed": false
   }
  },
  {
   "cell_type": "code",
   "execution_count": 20,
   "outputs": [
    {
     "name": "stdout",
     "output_type": "stream",
     "text": [
      "Importance by Feature:\n",
      "comments_docstrings: 50.66%\n",
      "naming_conventions: 8.42%\n",
      "descriptive_params: 7.73%\n",
      "misc: 5.44%\n",
      "line_length: 0.20%\n",
      "whitespace_consistency: 0.00%\n",
      "blank_lines: 0.00%\n"
     ]
    }
   ],
   "source": [
    "display_importance()"
   ],
   "metadata": {
    "collapsed": false
   }
  },
  {
   "cell_type": "markdown",
   "source": [
    "When we consider the importance of each feature, represented as the summation of the absolute values of each model's coefficients divided by the total number of models, we see that 3 of the 7 total features have an importance of less than 1%: line length, consistency with whitespace, and the number of blank lines. While it may be true that these unimportant features contribute to a programmer's assessment of the readability of Python code, it is likely the case that they do not contribute to the model's assessment ability. Perhaps these features are not present enough in the training data for the model to learn their importance.\n",
    "\n",
    "On the contrary, the presence of inline comments and docstrings, proper naming conventions, descriptive parameters, and to-do statements/proper boolean comparisons are features with much higher importance: 50.66%, 8.42%, 7.73%, and 5.44% respectively. It is likely that these features are strongly correlated with code readability and have more of a presence in the training data as compared to the aforementioned unimportant features. Inline comments and docstrings, for example, tend to provide valuable information about the code they reference, such as its intended usage and functionality. Similarly, consistent naming conventions and descriptive parameters help to make code more self-explanatory and easier to comprehend, better conveying the purpose of variables and their values.\n",
    "\n",
    "In order to improve our model's performance, as mentioned before, we could select the data from a wider range of Python repositories. In the ideal case, the proportion of data points that fall under each label would be equal, effectively eliminating the model's bias towards certain classes and potentially balancing out the importance of each feature. There is not much of a need for oversampling or adjusting class weights since there is an obvious imbalance in the proportion of data in each class. That being said, the best course of action for improving our model's accuracy is to collect a wider variety of Python snippets and then re-train the model."
   ],
   "metadata": {
    "collapsed": false
   }
  }
 ],
 "metadata": {
  "kernelspec": {
   "display_name": "Python 3",
   "language": "python",
   "name": "python3"
  },
  "language_info": {
   "codemirror_mode": {
    "name": "ipython",
    "version": 2
   },
   "file_extension": ".py",
   "mimetype": "text/x-python",
   "name": "python",
   "nbconvert_exporter": "python",
   "pygments_lexer": "ipython2",
   "version": "2.7.6"
  }
 },
 "nbformat": 4,
 "nbformat_minor": 0
}
